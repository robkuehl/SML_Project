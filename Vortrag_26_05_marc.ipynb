{
 "cells": [
  {
   "cell_type": "markdown",
   "metadata": {},
   "source": [
    "## 1. Einführung & Heatmap"
   ]
  },
  {
   "cell_type": "code",
   "execution_count": null,
   "metadata": {},
   "outputs": [],
   "source": []
  },
  {
   "cell_type": "markdown",
   "metadata": {},
   "source": [
    "## 2. Paper/Theorie"
   ]
  },
  {
   "cell_type": "markdown",
   "metadata": {},
   "source": [
    "### Binder et al. Layer-wise Relevance Propagation for deep neural Network Architecture\n",
    "\n",
    "\n",
    "Visualisierung der Entscheidungsfindung eines neuronalen Netzes"
   ]
  },
  {
   "cell_type": "markdown",
   "metadata": {},
   "source": [
    "Betrachte neuronale Netze zur Bilderkennung: \n",
    "\n",
    "- Input: Bild als Vektor der einzelnen Pixel.\n",
    "\n",
    "- Output: Klassifikation des Bildes.\n",
    "\n",
    "- Ansätze der Vergangenheit: \n",
    "    - Untersuche gelernte Gewichte.\n",
    "    - Identifiziere 'Hauptneuronen', d.h. diejenigen Neuronen über die viele Informationen laufen.\n",
    "\n",
    "- Neuer Ansatz: Anhand des Outputs des Netzwerkes für ein bestimmtes Bild, verfolge via Back-Propagation den Informationsfluss zurück zur Inputebene."
   ]
  },
  {
   "cell_type": "markdown",
   "metadata": {},
   "source": [
    "### Layer-wise Relevance Propagation:\n",
    "\n",
    "- Grundidee: 'Rückrechnung' der Relevanz der Neuronen in den einzelnen Schichten von Output zu Inputebene.\n",
    "- Für $x^{(l)}$ Output der $l$-ten Ebene, $W^{(l,l+1)}$ Übergangsmatrix von Schicht $l$ zu $l+1$, sowie $R^{(l+1)}$ Relevance-Propagation Vektor der Schicht $l+1$ nutze folgende Formel:\n",
    "\\begin{align}\n",
    "R_{i}^{(l)}=\\sum_{j} \\frac{z_{i j}}{\\sum_{i^{\\prime}} z_{i^{\\prime} j}} R_{j}^{(l+1)} \\quad \\text { mit } \\quad \\mathrm{z}_{\\mathrm{ij}}=\\mathrm{x}_{\\mathrm{i}}^{(1)} \\mathrm{w}_{\\mathrm{ij}}^{(1,1+1)}\n",
    "\\end{align}\n",
    "- Umverteilung der Gewichte des Outputs."
   ]
  },
  {
   "cell_type": "markdown",
   "metadata": {},
   "source": [
    "- Erster Ansatz: \n",
    "\\begin{align}\n",
    "R_{i}^{(l)}=\\sum_{j} \\frac{z_{i j}}{\\sum_{i^{\\prime}} z_{i^{\\prime} j}} R_{j}^{(l+1)} \\quad \\text { mit } \\quad \\mathrm{z}_{\\mathrm{ij}}=\\mathrm{x}_{\\mathrm{i}}^{(1)} \\mathrm{w}_{\\mathrm{ij}}^{(1,1+1)}\n",
    "\\end{align}\n",
    "- Nachteil der Formel: Positive und Negative Gewichte können den Nenner klein machen $\\rightarrow$ Sensibilität bezüglich des Input.\n",
    "\n",
    "- Zwei Lösungsvorschläge im Paper:\n",
    "1. Stabilisator $\\varepsilon$ :\n",
    "\\begin{align}\n",
    "R_{i}^{(l)}=\\sum_{j} \\frac{z_{i j}}{\\sum_{i^{\\prime}} z_{i^{\\prime} j}+\\epsilon \\operatorname{sign}\\left(\\sum_{i^{\\prime}} z_{i^{\\prime} j}\\right)} R_{j}^{(l+1)}\n",
    "\\end{align}\n",
    "- $\\varepsilon >0$.\n",
    "- Idee der Umverteilung zwischen einzelnen Schichten zugunsten der numerischen Stabilität vernachlässigt.\n",
    "\n",
    "2. Aufteilung in Positiv-/Negativteil ($\\beta$-Variante):\n",
    "\\begin{align}\n",
    "R_{i}^{(l)}=\\sum_{j}\\left(\\alpha \\cdot \\frac{z_{i j}^{+}}{\\sum_{i^{\\prime}} z_{i^{\\prime} j}^{+}}+\\beta \\cdot \\frac{z_{i j}^{-}}{\\sum_{i^{\\prime}} z_{i^{\\prime} j}^{-}}\\right) R_{j}^{(l+1)}\n",
    "\\end{align}\n",
    "- Wähle $\\alpha$, $\\beta$ sodass $\\alpha + \\beta = 1$, $\\beta \\leq 0, \\alpha > 0$.\n"
   ]
  },
  {
   "cell_type": "markdown",
   "metadata": {},
   "source": [
    "### Implementierung der Formeln im Code: \n",
    "- Nutze Numpy Funktionen zur Matrixmultiplikation.\n",
    "- Gesucht ist eine Matrix der Form:\n",
    "\n",
    "\\begin{align*}\n",
    "\\left(\\begin{array}{ccc}\n",
    "\\frac{z_{11}}{\\sum_{i^{\\prime}} z_{i^{\\prime} 1}}  & \\cdots & \\frac{z_{1n}}{\\sum_{i^{\\prime}} z_{i^{\\prime} n}}  \\\\\n",
    "\\vdots & \\ddots & \\vdots \\\\\n",
    "\\frac{z_{m1}}{\\sum_{i^{\\prime}} z_{i^{\\prime} 1}}  & \\cdots & \\frac{z_{mn}}{\\sum_{i^{\\prime}} z_{i^{\\prime} m}} \n",
    "\\end{array}\\right)=:\\overline{Z}\n",
    "\\end{align*} \n",
    "- Dann gilt:\n",
    "\\begin{align*}\n",
    "R_{i}^{(l)}=\\sum_{j} \\frac{z_{i j}}{\\sum_{i^{\\prime}} z_{i^{\\prime} j}} R_{j}^{(l+1)} \\quad \\Rightarrow \\quad R^{(l)} = \\overline{Z} R^{(l+1)} \\text{, wobei } R^{(nLayers+1)} = \\text{ output}\n",
    "\\end{align*}"
   ]
  },
  {
   "cell_type": "markdown",
   "metadata": {},
   "source": [
    "- Zielformel:\n",
    "\\begin{align*}\n",
    "R_{i}^{(l)}=\\sum_{j} \\frac{z_{i j}}{\\sum_{i^{\\prime}} z_{i^{\\prime} j}} R_{j}^{(l+1)} \\quad \\Rightarrow \\quad R^{(l)} = \\overline{Z} R^{(l+1)} \\text{, wobei } R^{(nLayers+1)} = \\text{ output}\n",
    "\\end{align*}\n",
    "- Konstruktion von $\\overline{Z}$: \n",
    "- Für gegebenes $x^{(l)}, W^{(l,l+1)}$ betrachte (Zur Übersichtlichkeit ohne die $l$ Indizes):\n",
    "\\begin{align*}\n",
    "x^T W = \\left(\\begin{array}{ccc} {\\sum_i x_i w_{i1},} &{\\cdots,} &{\\sum_i x_i w_{in}} \\end{array}\\right)= \\left(\\begin{array}{ccc} {\\sum_i z_{i1},} &{\\cdots,} &{\\sum_i z_{in}} \\end{array}\\right) \n",
    "\\end{align*}"
   ]
  },
  {
   "cell_type": "markdown",
   "metadata": {},
   "source": [
    "- Generierung der Matrix: (Es gilt: $z_{ij} = x_i w_{ij}$)\n",
    "<img src=\"files/matrix_construction_new.PNG\">"
   ]
  },
  {
   "cell_type": "markdown",
   "metadata": {},
   "source": [
    "## 3. Implementierung\n",
    "### 3.1 Direkte Multiclass Classification"
   ]
  },
  {
   "cell_type": "code",
   "execution_count": null,
   "metadata": {},
   "outputs": [],
   "source": []
  },
  {
   "cell_type": "markdown",
   "metadata": {},
   "source": [
    "### 3.2 Multiclass Classification über einzelne Classificators"
   ]
  },
  {
   "cell_type": "code",
   "execution_count": null,
   "metadata": {},
   "outputs": [],
   "source": []
  }
 ],
 "metadata": {
  "kernelspec": {
   "display_name": "Python 3",
   "language": "python",
   "name": "python3"
  },
  "language_info": {
   "codemirror_mode": {
    "name": "ipython",
    "version": 3
   },
   "file_extension": ".py",
   "mimetype": "text/x-python",
   "name": "python",
   "nbconvert_exporter": "python",
   "pygments_lexer": "ipython3",
   "version": "3.7.7"
  }
 },
 "nbformat": 4,
 "nbformat_minor": 4
}
